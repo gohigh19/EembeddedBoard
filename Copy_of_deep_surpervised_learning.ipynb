{
  "nbformat": 4,
  "nbformat_minor": 0,
  "metadata": {
    "colab": {
      "provenance": [],
      "authorship_tag": "ABX9TyPoUp7QJu5cvdoqyDTRgMXr",
      "include_colab_link": true
    },
    "kernelspec": {
      "name": "python3",
      "display_name": "Python 3"
    },
    "language_info": {
      "name": "python"
    }
  },
  "cells": [
    {
      "cell_type": "markdown",
      "metadata": {
        "id": "view-in-github",
        "colab_type": "text"
      },
      "source": [
        "<a href=\"https://colab.research.google.com/github/gohigh19/EembeddedBoard/blob/master/Copy_of_deep_surpervised_learning.ipynb\" target=\"_parent\"><img src=\"https://colab.research.google.com/assets/colab-badge.svg\" alt=\"Open In Colab\"/></a>"
      ]
    },
    {
      "cell_type": "code",
      "execution_count": null,
      "metadata": {
        "colab": {
          "base_uri": "https://localhost:8080/"
        },
        "id": "jAkd0dWYkiH9",
        "outputId": "fbe76230-8436-4fe8-b30d-4d26c9d1aed7"
      },
      "outputs": [
        {
          "output_type": "stream",
          "name": "stdout",
          "text": [
            "Drive already mounted at /content/drive; to attempt to forcibly remount, call drive.mount(\"/content/drive\", force_remount=True).\n"
          ]
        }
      ],
      "source": [
        "from google.colab import drive\n",
        "drive.mount('/content/drive')"
      ]
    },
    {
      "cell_type": "code",
      "source": [
        "import pandas as pd\n",
        "import numpy as np\n",
        "from sklearn.model_selection import train_test_split\n",
        "from sklearn.preprocessing import LabelEncoder, StandardScaler\n",
        "import tensorflow as tf\n",
        "from tensorflow import keras\n",
        "from tensorflow.keras import layers\n",
        "import os\n",
        "\n",
        "train_new_model = False\n",
        "\n",
        "# Data columns\n",
        "categorical_cols = [\"Tool Type\", \"Brand\", \"Condition\", \"Location\"]\n",
        "numerical_cols = [\"Rental Duration (days)\", \"Popularity Score\"]\n",
        "\n",
        "# Preprocess data\n",
        "def preprocess_data(data):\n",
        "\n",
        "    # Encode categorical_cols\n",
        "    label_encoders = {}\n",
        "    for col in categorical_cols:\n",
        "        le = LabelEncoder()\n",
        "        data[col] = le.fit_transform(data[col])\n",
        "        label_encoders[col] = le\n",
        "\n",
        "    # Scale numerical columns\n",
        "    scaler = StandardScaler()\n",
        "    data[numerical_cols] = scaler.fit_transform(data[numerical_cols])\n",
        "\n",
        "    # Split data into features and target\n",
        "    X = data.drop(\"Rental Price\", axis=1)\n",
        "    y = data[\"Rental Price\"]\n",
        "\n",
        "    return X, y, label_encoders, scaler\n",
        "\n",
        "# Function to train the model\n",
        "def train_model(X_train, y_train, epochs=50, batch_size=32, validation_split=0.2):\n",
        "    # Object neural network model\n",
        "    model = keras.Sequential([\n",
        "        layers.Input(shape=(X_train.shape[1],)),\n",
        "        layers.Dense(64, activation='relu'),\n",
        "        layers.Dense(32, activation='relu'),\n",
        "        layers.Dense(1)  # Output layer with a single neuron for regression\n",
        "    ])\n",
        "\n",
        "    # Compile the model\n",
        "    model.compile(optimizer='adam', loss='mean_squared_error')\n",
        "\n",
        "    # Train the model\n",
        "    model.fit(X_train, y_train, epochs=epochs, batch_size=batch_size, validation_split=validation_split, verbose=0)\n",
        "\n",
        "    return model\n",
        "\n",
        "# Function to make predictions\n",
        "def predict_rental_price(model, new_data, label_encoders, scaler):\n",
        "    # Preprocess the new data\n",
        "    for col in categorical_cols:\n",
        "        new_data[col] = label_encoders[col].transform(new_data[col])\n",
        "    new_data[numerical_cols] = scaler.transform(new_data[numerical_cols])\n",
        "\n",
        "    # Predict the rental price for the new data point using the trained model\n",
        "    new_pred = model.predict(new_data)\n",
        "    return new_pred[0][0]\n",
        "\n",
        "model_file_path = \"/content/drive/My Drive/price_prediction_supervised_dl/trained_model.h5\"\n",
        "if not train_new_model and os.path.exists(model_file_path):\n",
        "    trained_model = keras.models.load_model(model_file_path)\n",
        "else:\n",
        "    # Load and preprocess training data\n",
        "    csv_file_path = '/content/drive/My Drive/price_prediction_supervised_dl/training_data.csv'\n",
        "    data = pd.read_csv(csv_file_path)\n",
        "    X, y, label_encoders, scaler = preprocess_data(data)\n",
        "\n",
        "    # Split data into train and test sets\n",
        "    X_train, X_test, y_train, y_test = train_test_split(X, y, test_size=0.01, random_state=42)\n",
        "\n",
        "    # Train the model\n",
        "    trained_model = train_model(X_train, y_train)\n",
        "\n",
        "    # Save the trained model\n",
        "    trained_model.save(model_file_path)\n",
        "# Predict on test set\n",
        "y_pred = trained_model.predict(X_test)\n",
        "\n",
        "# Create new data for prediction\n",
        "new_data = pd.DataFrame({\n",
        "    \"Tool Type\": [\"Hammer\"],\n",
        "    \"Brand\": [\"ABC Tools\"],\n",
        "    \"Condition\": [\"New\"],\n",
        "    \"Rental Duration (days)\": [2],\n",
        "    \"Location\": [\"New York\"],\n",
        "    \"Popularity Score\": [8]\n",
        "})\n",
        "\n",
        "# Predict the rental price for the new data point\n",
        "predicted_price = predict_rental_price(trained_model, new_data, label_encoders, scaler)\n",
        "print(f\"Predicted rental price: {predicted_price}\")\n"
      ],
      "metadata": {
        "colab": {
          "base_uri": "https://localhost:8080/"
        },
        "id": "86X_SHt4o3Cd",
        "outputId": "78261498-16e9-4087-e53c-5738be347357"
      },
      "execution_count": null,
      "outputs": [
        {
          "output_type": "stream",
          "name": "stdout",
          "text": [
            "1/1 [==============================] - 0s 55ms/step\n",
            "1/1 [==============================] - 0s 20ms/step\n",
            "Predicted rental price: 4.943324565887451\n"
          ]
        }
      ]
    },
    {
      "cell_type": "code",
      "source": [],
      "metadata": {
        "id": "RhA7Lxj9ozm6"
      },
      "execution_count": null,
      "outputs": []
    }
  ]
}